{
  "nbformat": 4,
  "nbformat_minor": 0,
  "metadata": {
    "colab": {
      "provenance": [],
      "authorship_tag": "ABX9TyPEcP6VMXH6eZqto5TfLLA1",
      "include_colab_link": true
    },
    "kernelspec": {
      "name": "python3",
      "display_name": "Python 3"
    },
    "language_info": {
      "name": "python"
    }
  },
  "cells": [
    {
      "cell_type": "markdown",
      "metadata": {
        "id": "view-in-github",
        "colab_type": "text"
      },
      "source": [
        "<a href=\"https://colab.research.google.com/github/Aaronjomy/Aaron-jomy/blob/main/Untitled6.ipynb\" target=\"_parent\"><img src=\"https://colab.research.google.com/assets/colab-badge.svg\" alt=\"Open In Colab\"/></a>"
      ]
    },
    {
      "cell_type": "code",
      "source": [
        "name=input(\"Enter the name\")\n",
        "print (name)\n",
        "\n",
        "\n",
        "\n"
      ],
      "metadata": {
        "colab": {
          "base_uri": "https://localhost:8080/"
        },
        "id": "QEsN2Dz7h-5X",
        "outputId": "ba734c90-2f67-4ac2-fd04-34d2258d06d9"
      },
      "execution_count": 3,
      "outputs": [
        {
          "output_type": "stream",
          "name": "stdout",
          "text": [
            "Enter the nameAaron\n",
            "Aaron\n"
          ]
        }
      ]
    },
    {
      "cell_type": "code",
      "source": [
        "x=int(input(\"enter the first mark\"))\n",
        "y=int(input(\"enter the second mark\"))\n",
        "if x>y:\n",
        "  print(\"x is greater\")\n",
        "else:\n",
        "  print(\"y is greater\") \n",
        "\n"
      ],
      "metadata": {
        "colab": {
          "base_uri": "https://localhost:8080/"
        },
        "id": "2qAyEUMGiHc0",
        "outputId": "baaa204d-3749-4548-d11c-22583dd45202"
      },
      "execution_count": 8,
      "outputs": [
        {
          "output_type": "stream",
          "name": "stdout",
          "text": [
            "enter the first mark20\n",
            "enter the second mark50\n",
            "y is greater\n"
          ]
        }
      ]
    },
    {
      "cell_type": "code",
      "source": [
        "n1=int(input(\"enter the first number\"))\n",
        "n2=int(input(\"enter the second number\"))\n",
        "n3=int(input(\"enter the third number\"))\n",
        "if n1>n2 and n1>n3:\n",
        "  print(n1,\"is greater\")\n",
        "if n2>n3 and n2>n3:\n",
        "  print(n2,\"is largest\")\n",
        "else:5\n",
        "  print(n3,\"is largest\")    \n"
      ],
      "metadata": {
        "colab": {
          "base_uri": "https://localhost:8080/"
        },
        "id": "L0G1owy7jpLx",
        "outputId": "b4989a11-b08f-471c-b4bc-d0df32ef022c"
      },
      "execution_count": 12,
      "outputs": [
        {
          "output_type": "stream",
          "name": "stdout",
          "text": [
            "enter the first number20\n",
            "enter the second number30\n",
            "enter the third number50\n",
            "50 is largest\n"
          ]
        }
      ]
    },
    {
      "cell_type": "code",
      "source": [
        "num1=int(input())\n",
        "if num1%2 == 0:\n",
        "  print(\"Its even\")\n",
        "else:\n",
        "  print(\"odd\")  \n"
      ],
      "metadata": {
        "colab": {
          "base_uri": "https://localhost:8080/"
        },
        "id": "8Q5sostvupFu",
        "outputId": "9a6e842f-ae79-4c27-8d1c-201443ab88f9"
      },
      "execution_count": 17,
      "outputs": [
        {
          "output_type": "stream",
          "name": "stdout",
          "text": [
            "2\n",
            "Its even\n"
          ]
        }
      ]
    },
    {
      "cell_type": "code",
      "source": [
        "for i in range(1,11):\n",
        "  print(i)\n",
        "  "
      ],
      "metadata": {
        "colab": {
          "base_uri": "https://localhost:8080/"
        },
        "id": "g89vCr6nyO22",
        "outputId": "21aea72d-120a-462a-b677-e492f207c43e"
      },
      "execution_count": 18,
      "outputs": [
        {
          "output_type": "stream",
          "name": "stdout",
          "text": [
            "1\n",
            "2\n",
            "3\n",
            "4\n",
            "5\n",
            "6\n",
            "7\n",
            "8\n",
            "9\n",
            "10\n"
          ]
        }
      ]
    },
    {
      "cell_type": "code",
      "source": [],
      "metadata": {
        "id": "pObUcOkv0C7P"
      },
      "execution_count": null,
      "outputs": []
    }
  ]
}