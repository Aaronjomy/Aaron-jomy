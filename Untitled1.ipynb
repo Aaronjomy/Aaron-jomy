{
  "nbformat": 4,
  "nbformat_minor": 0,
  "metadata": {
    "colab": {
      "provenance": [],
      "authorship_tag": "ABX9TyP1MvH/AtMz4K+wZ4cZkEnQ",
      "include_colab_link": true
    },
    "kernelspec": {
      "name": "python3",
      "display_name": "Python 3"
    },
    "language_info": {
      "name": "python"
    }
  },
  "cells": [
    {
      "cell_type": "markdown",
      "metadata": {
        "id": "view-in-github",
        "colab_type": "text"
      },
      "source": [
        "<a href=\"https://colab.research.google.com/github/Aaronjomy/Aaron-jomy/blob/main/Untitled1.ipynb\" target=\"_parent\"><img src=\"https://colab.research.google.com/assets/colab-badge.svg\" alt=\"Open In Colab\"/></a>"
      ]
    },
    {
      "cell_type": "code",
      "execution_count": null,
      "metadata": {
        "colab": {
          "base_uri": "https://localhost:8080/"
        },
        "id": "QzMeD-l1emPb",
        "outputId": "2cc35788-5318-4fad-82ee-c3846af68afb"
      },
      "outputs": [
        {
          "name": "stdout",
          "output_type": "stream",
          "text": [
            "50\n"
          ]
        }
      ],
      "source": [
        "x=int(input())"
      ]
    },
    {
      "cell_type": "code",
      "source": [
        "mark=int(input())"
      ],
      "metadata": {
        "colab": {
          "base_uri": "https://localhost:8080/"
        },
        "id": "fBfKjoP8hvDx",
        "outputId": "6cf37340-614e-45fa-998b-3e28851b9890"
      },
      "execution_count": null,
      "outputs": [
        {
          "name": "stdout",
          "output_type": "stream",
          "text": [
            "50\n"
          ]
        }
      ]
    },
    {
      "cell_type": "code",
      "source": [
        "if mark >50 :\n",
        "  print(\"You are passed\") \n",
        "if mark ==50 :\n",
        "  print(\"You are just passed\") \n",
        "if mark <50 :\n",
        "  print(\"You are failed\")"
      ],
      "metadata": {
        "colab": {
          "base_uri": "https://localhost:8080/"
        },
        "id": "_SYSOwrugofX",
        "outputId": "3ce3808c-b8ca-4487-9368-dbbe2cb78ace"
      },
      "execution_count": null,
      "outputs": [
        {
          "output_type": "stream",
          "name": "stdout",
          "text": [
            "You are just passed\n"
          ]
        }
      ]
    },
    {
      "cell_type": "code",
      "source": [
        "print(\"tax\")\n",
        "Salary=int(input())\n"
      ],
      "metadata": {
        "colab": {
          "base_uri": "https://localhost:8080/"
        },
        "id": "em2ZFhQXhlBt",
        "outputId": "9bdd6b89-56ce-409a-f5cf-d6ed247f77bd"
      },
      "execution_count": null,
      "outputs": [
        {
          "name": "stdout",
          "output_type": "stream",
          "text": [
            "tax\n",
            "250000\n"
          ]
        }
      ]
    },
    {
      "cell_type": "code",
      "source": [],
      "metadata": {
        "id": "Wjx7ePF5mbfB"
      },
      "execution_count": null,
      "outputs": []
    },
    {
      "cell_type": "code",
      "source": [
        "print(\"tax\")\n",
        "Salary=int(input())\n",
        "if Salary >=250000 :\n",
        "  print(\"You are taxable\") \n",
        "  tax=Salary*10/100\n",
        "  print(tax)\n",
        "if Salary <250000 :\n",
        "  print(\"You are nontaxable\")\n"
      ],
      "metadata": {
        "colab": {
          "base_uri": "https://localhost:8080/"
        },
        "outputId": "19e2ce90-69e4-4d22-ec08-01b444b1b1a5",
        "id": "MxFUMWqdmcxD"
      },
      "execution_count": null,
      "outputs": [
        {
          "output_type": "stream",
          "name": "stdout",
          "text": [
            "tax\n",
            "300000\n",
            "You are taxable\n",
            "30000.0\n"
          ]
        }
      ]
    },
    {
      "cell_type": "code",
      "source": [
        "print(\"tax\")\n",
        "Salary=int(input())\n",
        "if Salary >=250000 :\n",
        "  print(\"You are taxable\")\n",
        "  TA=Salary-250000 \n",
        "  tax=TA*10/100\n",
        "  print(tax)\n",
        "if Salary <250000 :\n",
        "  print(\"You are nontaxable\")\n"
      ],
      "metadata": {
        "colab": {
          "base_uri": "https://localhost:8080/"
        },
        "id": "3eGu_hqDmraf",
        "outputId": "6b4b3e30-8db7-4c49-bfda-4e9158d106e1"
      },
      "execution_count": null,
      "outputs": [
        {
          "output_type": "stream",
          "name": "stdout",
          "text": [
            "tax\n",
            "300000\n",
            "You are taxable\n",
            "5000.0\n"
          ]
        }
      ]
    },
    {
      "cell_type": "code",
      "source": [
        "print(\"tax\")\n",
        "Salary=int(input())\n",
        "if Salary >=250000 :\n",
        "  print(\"You are taxable\") \n",
        "  tax=(Salary-250000)*10/100\n",
        "  print(tax)\n",
        "if Salary <250000 :\n",
        "  print(\"You are nontaxable\")\n"
      ],
      "metadata": {
        "colab": {
          "base_uri": "https://localhost:8080/"
        },
        "id": "XXMeWZ2wpxBd",
        "outputId": "45ed750c-5b67-40e9-a1fd-9093379592cb"
      },
      "execution_count": null,
      "outputs": [
        {
          "output_type": "stream",
          "name": "stdout",
          "text": [
            "tax\n",
            "300000\n",
            "You are taxable\n",
            "5000.0\n"
          ]
        }
      ]
    },
    {
      "cell_type": "code",
      "source": [
        "print(\"Progressive Tax Calculation\")\n",
        "Salary=int(input())\n",
        "if Salary >=250000 and Salary<500000:\n",
        "  print(\"You are taxable\") \n",
        "  Tax=(Salary-250000)*10/100\n",
        "  print(tax)\n",
        "if Salary>=500000: \n",
        "  print(\"you are taxable\")\n",
        "  Tax=(Salary-250000)*10/100\n",
        "  print(Tax)\n",
        "if Salary <250000 :\n",
        "  print(\"You are nontaxable\")\n"
      ],
      "metadata": {
        "colab": {
          "base_uri": "https://localhost:8080/"
        },
        "id": "ifw-Ch6JqcIn",
        "outputId": "7f1423cf-be2e-4f8a-fa85-6612005c4c02"
      },
      "execution_count": null,
      "outputs": [
        {
          "output_type": "stream",
          "name": "stdout",
          "text": [
            "Progressive Tax Calculation\n",
            "600000\n",
            "you are taxable\n",
            "35000.0\n"
          ]
        }
      ]
    },
    {
      "cell_type": "code",
      "source": [],
      "metadata": {
        "id": "FzPgLP7SvQML"
      },
      "execution_count": null,
      "outputs": []
    }
  ]
}