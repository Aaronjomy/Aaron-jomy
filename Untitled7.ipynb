{
  "nbformat": 4,
  "nbformat_minor": 0,
  "metadata": {
    "colab": {
      "provenance": [],
      "authorship_tag": "ABX9TyPe5AxFzIKt8XRj6O5qPVJz",
      "include_colab_link": true
    },
    "kernelspec": {
      "name": "python3",
      "display_name": "Python 3"
    },
    "language_info": {
      "name": "python"
    }
  },
  "cells": [
    {
      "cell_type": "markdown",
      "metadata": {
        "id": "view-in-github",
        "colab_type": "text"
      },
      "source": [
        "<a href=\"https://colab.research.google.com/github/Aaronjomy/Aaron-jomy/blob/main/Untitled7.ipynb\" target=\"_parent\"><img src=\"https://colab.research.google.com/assets/colab-badge.svg\" alt=\"Open In Colab\"/></a>"
      ]
    },
    {
      "cell_type": "code",
      "execution_count": 1,
      "metadata": {
        "colab": {
          "base_uri": "https://localhost:8080/",
          "height": 0
        },
        "id": "OLBDJ2i1ow1A",
        "outputId": "f9bc9386-9b5f-4e4b-9916-56899e04be9c"
      },
      "outputs": [
        {
          "name": "stdout",
          "output_type": "stream",
          "text": [
            "enter the passengers travel sourcekochi \n",
            "enter the passenger destinationpala\n",
            "enter the passenger number66\n"
          ]
        }
      ],
      "source": [
        "source=input(\"enter the passengers travel source\")\n",
        "destination=input(\"enter the passenger destination\")\n",
        "number=int(input(\"enter the passenger number\"))"
      ]
    },
    {
      "cell_type": "code",
      "source": [
        "x=int(input(\"enter the passenger total ticket fare\"))\n",
        "y=int(input(\"number of passengers\"))\n",
        "totalfare=print(x/y)"
      ],
      "metadata": {
        "colab": {
          "base_uri": "https://localhost:8080/",
          "height": 0
        },
        "id": "-NmEuMccqmdu",
        "outputId": "159daedf-dc7a-41e3-b03e-b1b2de568bed"
      },
      "execution_count": 5,
      "outputs": [
        {
          "output_type": "stream",
          "name": "stdout",
          "text": [
            "enter the passenger total ticket fare85\n",
            "number of passengers54\n",
            "1.5740740740740742\n"
          ]
        }
      ]
    },
    {
      "cell_type": "code",
      "source": [
        "x=(input(\"passengers name\"))\n",
        "y=int(input(\"ticket fare\"))\n",
        "print(x,y)"
      ],
      "metadata": {
        "colab": {
          "base_uri": "https://localhost:8080/",
          "height": 0
        },
        "id": "624AY556r-0Z",
        "outputId": "9574bc3d-0fb0-4e89-8b55-1205c76de28b"
      },
      "execution_count": 6,
      "outputs": [
        {
          "output_type": "stream",
          "name": "stdout",
          "text": [
            "passengers nameaaron\n",
            "ticket fare45\n",
            "aaron 45\n"
          ]
        }
      ]
    },
    {
      "cell_type": "code",
      "source": [
        "x=int(input(\"total ticket fare\"))\n",
        "if x>10000 :\n",
        "  print(\"eligible for discount\")\n",
        "else:\n",
        "  print(\"not eligible for discount\")\n"
      ],
      "metadata": {
        "colab": {
          "base_uri": "https://localhost:8080/"
        },
        "id": "hbX9B-QN1cHF",
        "outputId": "55818b83-ea75-4d7c-d142-397467b8c7f2"
      },
      "execution_count": 7,
      "outputs": [
        {
          "output_type": "stream",
          "name": "stdout",
          "text": [
            "total ticket fare50\n",
            "not eligible for discount\n"
          ]
        }
      ]
    },
    {
      "cell_type": "code",
      "source": [
        "x=int(input(\"total ticket fare\"))\n",
        "if x>15000 :\n",
        "  print(\"20% discount\")\n",
        "else:\n",
        "  print(\"10% discount\")"
      ],
      "metadata": {
        "colab": {
          "base_uri": "https://localhost:8080/"
        },
        "id": "oNNi5fsV13_E",
        "outputId": "1fbfaa12-abd7-484e-eefa-e1d8fb4caf09"
      },
      "execution_count": 9,
      "outputs": [
        {
          "output_type": "stream",
          "name": "stdout",
          "text": [
            "total ticket fare55\n",
            "10% discount\n"
          ]
        }
      ]
    },
    {
      "cell_type": "code",
      "source": [
        "x=int(input(\"ticket fare\"))\n",
        "if x>15000:\n",
        "  i=x*20/100\n",
        "  print(i,\"discount\")\n",
        "if x>=10000:\n",
        "   z=x*20/100\n",
        "   print(z,\"disount\")\n",
        "if x<10000:\n",
        "   y=x*5/100\n",
        "   print(y,\"discount\")"
      ],
      "metadata": {
        "colab": {
          "base_uri": "https://localhost:8080/"
        },
        "id": "eUkVaC7t17UN",
        "outputId": "757d3272-6a4b-4cca-99b3-439ed90bfb17"
      },
      "execution_count": 10,
      "outputs": [
        {
          "output_type": "stream",
          "name": "stdout",
          "text": [
            "ticket fare77\n",
            "3.85 discount\n"
          ]
        }
      ]
    },
    {
      "cell_type": "code",
      "source": [
        "x=int(input(\"Age of Passenger \"))\n",
        "if x>17:\n",
        "  print(\"Adult\")\n",
        "elif x>12 and x<17:\n",
        "  print(\"Teenager\")\n",
        "elif x>5 and x<11:\n",
        "  print(\"Kid\")\n",
        "else:\n",
        "  print(\"Infant\")"
      ],
      "metadata": {
        "colab": {
          "base_uri": "https://localhost:8080/"
        },
        "id": "oGQBAtLX2dAX",
        "outputId": "f5ea6e67-0938-4291-884e-32411480ffa4"
      },
      "execution_count": 11,
      "outputs": [
        {
          "output_type": "stream",
          "name": "stdout",
          "text": [
            "Age of Passenger 15\n",
            "Teenager\n"
          ]
        }
      ]
    },
    {
      "cell_type": "code",
      "source": [
        "x=int(input(\"Enter A Number \"))\n",
        "if x>0:\n",
        "  print(\"Positive\")\n",
        "elif x<0:\n",
        "  print(\"Negative\")\n",
        "else:\n",
        "  print(\"Zero\")"
      ],
      "metadata": {
        "colab": {
          "base_uri": "https://localhost:8080/"
        },
        "id": "9OiAKbKk4uXy",
        "outputId": "041c61a4-038c-4f08-c7a5-a76fd318b19a"
      },
      "execution_count": 12,
      "outputs": [
        {
          "output_type": "stream",
          "name": "stdout",
          "text": [
            "Enter A Number 55\n",
            "Positive\n"
          ]
        }
      ]
    },
    {
      "cell_type": "code",
      "source": [
        "x=input(\"Passengers Initial \")\n",
        "if x==\"A\":\n",
        "  print(\"Vowel\")\n",
        "elif x==\"E\":\n",
        "  print(\"Vowel\")\n",
        "elif x==\"I\":\n",
        "  print(\"Vowel\")\n",
        "elif x==\"O\":\n",
        "  print(\"Vowel\")\n",
        "elif x==\"U\":\n",
        "  print(\"Vowel\")\n",
        "else:\n",
        "  print(\"Not Vowel\")"
      ],
      "metadata": {
        "colab": {
          "base_uri": "https://localhost:8080/"
        },
        "id": "iiBzvm6142-a",
        "outputId": "5e3eef44-c338-41bb-8801-31a209a6d325"
      },
      "execution_count": 13,
      "outputs": [
        {
          "output_type": "stream",
          "name": "stdout",
          "text": [
            "Passengers Initial A\n",
            "Vowel\n"
          ]
        }
      ]
    },
    {
      "cell_type": "code",
      "source": [
        "x=input(\"passenger name \")\n",
        "for a in x:\n",
        "  print(a)"
      ],
      "metadata": {
        "colab": {
          "base_uri": "https://localhost:8080/"
        },
        "id": "WGt00_ag-N80",
        "outputId": "7ad89749-fb01-4e08-a664-318c0dbc3e9c"
      },
      "execution_count": 14,
      "outputs": [
        {
          "output_type": "stream",
          "name": "stdout",
          "text": [
            "passenger name aaron\n",
            "a\n",
            "a\n",
            "r\n",
            "o\n",
            "n\n"
          ]
        }
      ]
    },
    {
      "cell_type": "code",
      "source": [
        "k=0\n",
        "for a in range(1,10):\n",
        "  k=k+a\n",
        "  print(a,k)"
      ],
      "metadata": {
        "colab": {
          "base_uri": "https://localhost:8080/"
        },
        "id": "XkJAAkL7-Q5s",
        "outputId": "d16821bc-02b1-4ac9-892e-5481835a4109"
      },
      "execution_count": 15,
      "outputs": [
        {
          "output_type": "stream",
          "name": "stdout",
          "text": [
            "1 1\n",
            "2 3\n",
            "3 6\n",
            "4 10\n",
            "5 15\n",
            "6 21\n",
            "7 28\n",
            "8 36\n",
            "9 45\n"
          ]
        }
      ]
    },
    {
      "cell_type": "code",
      "source": [
        "x=int(input(\"Enter Starting Value \"))\n",
        "y=int(input(\"Enter Ending Value \"))\n",
        "z=range(x,y) \n",
        "for a in z:\n",
        "  if a%2!=0 :\n",
        "    print(a)"
      ],
      "metadata": {
        "colab": {
          "base_uri": "https://localhost:8080/"
        },
        "id": "Z9uQAC59_BID",
        "outputId": "936355be-c139-41c9-801b-e6accffbb2f6"
      },
      "execution_count": 17,
      "outputs": [
        {
          "output_type": "stream",
          "name": "stdout",
          "text": [
            "Enter Starting Value 1\n",
            "Enter Ending Value 10\n",
            "1\n",
            "3\n",
            "5\n",
            "7\n",
            "9\n"
          ]
        }
      ]
    }
  ]
}