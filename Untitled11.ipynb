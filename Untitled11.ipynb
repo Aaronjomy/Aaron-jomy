{
  "nbformat": 4,
  "nbformat_minor": 0,
  "metadata": {
    "colab": {
      "provenance": [],
      "authorship_tag": "ABX9TyN88WLoc2u84CsawJxCOVfe",
      "include_colab_link": true
    },
    "kernelspec": {
      "name": "python3",
      "display_name": "Python 3"
    },
    "language_info": {
      "name": "python"
    }
  },
  "cells": [
    {
      "cell_type": "markdown",
      "metadata": {
        "id": "view-in-github",
        "colab_type": "text"
      },
      "source": [
        "<a href=\"https://colab.research.google.com/github/Aaronjomy/Aaron-jomy/blob/main/Untitled11.ipynb\" target=\"_parent\"><img src=\"https://colab.research.google.com/assets/colab-badge.svg\" alt=\"Open In Colab\"/></a>"
      ]
    },
    {
      "cell_type": "code",
      "execution_count": null,
      "metadata": {
        "colab": {
          "base_uri": "https://localhost:8080/"
        },
        "id": "mTAxf-_YtlXF",
        "outputId": "03cfb51f-46ec-4610-d62f-44d8c301b299"
      },
      "outputs": [
        {
          "output_type": "stream",
          "name": "stdout",
          "text": [
            "Fifa World Cup\n"
          ]
        }
      ],
      "source": [
        "def fun_name():\n",
        "  print(\"Fifa World Cup\")\n",
        "fun_name()"
      ]
    },
    {
      "cell_type": "code",
      "source": [
        "def  namies():\n",
        "  x=input(\"enter first name:\")\n",
        "  y=input(\"enter middle name:\")\n",
        "  z=input(\"enter last name:\")\n",
        "  print(x,y,z)\n",
        "\n"
      ],
      "metadata": {
        "id": "CtejQ3znwLCD"
      },
      "execution_count": null,
      "outputs": []
    },
    {
      "cell_type": "code",
      "source": [
        "namies()"
      ],
      "metadata": {
        "colab": {
          "base_uri": "https://localhost:8080/"
        },
        "id": "c7EDy-pBxmDy",
        "outputId": "12b03f89-f104-48b6-f919-0382a9335ac5"
      },
      "execution_count": null,
      "outputs": [
        {
          "output_type": "stream",
          "name": "stdout",
          "text": [
            "enter first name:Aaron\n",
            "enter middle name:Blehh\n",
            "enter last name:JOmy Jomy\n",
            "Aaron Blehh JOmy Jomy\n"
          ]
        }
      ]
    },
    {
      "cell_type": "code",
      "source": [
        "def  namess():\n",
        "  x=input(\"enter first name:\")\n",
        "  y=input(\"enter middle name:\")\n",
        "  z=input(\"enter last name:\")\n",
        "  print(z,x,y)"
      ],
      "metadata": {
        "id": "PB5BZ9BQxokK"
      },
      "execution_count": null,
      "outputs": []
    },
    {
      "cell_type": "code",
      "source": [
        "def  namies(x,y,z):\n",
        "  print(x,y,z)\n",
        "\n",
        "x=input(\"enter first name:\")\n",
        "y=input(\"enter middle name:\")\n",
        "z=input(\"enter last name:\")\n",
        "\n",
        "namies(x,y,z)"
      ],
      "metadata": {
        "colab": {
          "base_uri": "https://localhost:8080/"
        },
        "id": "6GP1euGk1djb",
        "outputId": "5b66a78a-b88e-4938-a30a-f0add3dd100d"
      },
      "execution_count": null,
      "outputs": [
        {
          "output_type": "stream",
          "name": "stdout",
          "text": [
            "enter first name:home\n",
            "enter middle name:car\n",
            "enter last name:thro\n",
            "home car thro\n"
          ]
        }
      ]
    },
    {
      "cell_type": "code",
      "source": [
        "def  namess(x,y,z):\n",
        "  print(z,x,y)\n",
        "\n",
        "x=input(\"enter first name:\")\n",
        "y=input(\"enter middle name:\")\n",
        "z=input(\"enter last name:\")\n",
        "\n",
        "namess(x,y,z)"
      ],
      "metadata": {
        "colab": {
          "base_uri": "https://localhost:8080/"
        },
        "id": "Xq0rDELK1qJN",
        "outputId": "ef8571f3-2d7e-4be5-805a-4a18c3b90fec"
      },
      "execution_count": null,
      "outputs": [
        {
          "output_type": "stream",
          "name": "stdout",
          "text": [
            "enter first name:jose\n",
            "enter middle name:rhvn\n",
            "enter last name:frghh\n",
            "frghh jose rhvn\n"
          ]
        }
      ]
    },
    {
      "cell_type": "code",
      "source": [],
      "metadata": {
        "id": "QSA4rc_cw29R"
      },
      "execution_count": null,
      "outputs": []
    }
  ]
}