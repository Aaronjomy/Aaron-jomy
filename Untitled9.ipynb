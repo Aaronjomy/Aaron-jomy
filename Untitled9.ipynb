{
  "nbformat": 4,
  "nbformat_minor": 0,
  "metadata": {
    "colab": {
      "provenance": [],
      "authorship_tag": "ABX9TyMdnpPYD78NlvdH3Yrd0lFt",
      "include_colab_link": true
    },
    "kernelspec": {
      "name": "python3",
      "display_name": "Python 3"
    },
    "language_info": {
      "name": "python"
    }
  },
  "cells": [
    {
      "cell_type": "markdown",
      "metadata": {
        "id": "view-in-github",
        "colab_type": "text"
      },
      "source": [
        "<a href=\"https://colab.research.google.com/github/Aaronjomy/Aaron-jomy/blob/main/Untitled9.ipynb\" target=\"_parent\"><img src=\"https://colab.research.google.com/assets/colab-badge.svg\" alt=\"Open In Colab\"/></a>"
      ]
    },
    {
      "cell_type": "code",
      "execution_count": null,
      "metadata": {
        "colab": {
          "base_uri": "https://localhost:8080/"
        },
        "id": "oGaPDIgkw2T3",
        "outputId": "beab4800-344d-4c16-8640-4addb8abb226"
      },
      "outputs": [
        {
          "output_type": "stream",
          "name": "stdout",
          "text": [
            " 1.Addition \n",
            " 2.Subtraction \n",
            " 3.Multiplication \n",
            " 4.Division \n",
            " 5.Modulus \n",
            " 6.Floor division \n",
            " 7.Exponent\n",
            "enter the operation to be performed3\n",
            "enter the first no78676765\n",
            "enter the second no6563646\n",
            "multiplication : 516406433885190\n"
          ]
        }
      ],
      "source": [
        "print(' 1.Addition \\n 2.Subtraction \\n 3.Multiplication \\n 4.Division \\n 5.Modulus \\n 6.Floor division \\n 7.Exponent')\n",
        "n=int(input(\"enter the operation to be performed\"))                                              \n",
        "x=int(input(\"enter the first no\"))\n",
        "y=int(input(\"enter the second no\"))                                                                                               \n",
        "if n==1:\n",
        "  print(\"addition :\",x+y)\n",
        "elif n==2:\n",
        "  print(\"subtraction :\",x-y)\n",
        "elif n==3:\n",
        "  print(\"multiplication :\",x*y)\n",
        "elif n==4:\n",
        "  print(\"division :\",x/y)\n",
        "elif n==5:\n",
        "  print(\"modulus :\",x%y)\n",
        "elif n==6:\n",
        "  print(\"floor division : \",x//y)\n",
        "elif n==7:\n",
        "  print(\"exponent :\",x**y)"
      ]
    },
    {
      "cell_type": "code",
      "source": [
        "mathematics=int(input(\"enter the maths mark\"))\n",
        "english=int(input(\"enter the english marks\"))\n",
        "science=int(input(\"enter the science marks\"))\n",
        "french=int(input(\"enter the french marks\"))\n",
        "hindi=int(input(\"enter the hindi marks\"))\n",
        "min(mathematics,english,science,french,hindi)\n"
      ],
      "metadata": {
        "id": "KnBWPfc5xN1K",
        "colab": {
          "base_uri": "https://localhost:8080/"
        },
        "outputId": "c04defb9-40f9-4bed-8ae1-fb9fdde38f04"
      },
      "execution_count": 9,
      "outputs": [
        {
          "name": "stdout",
          "output_type": "stream",
          "text": [
            "enter the maths mark54\n",
            "enter the english marks511\n",
            "enter the science marks54\n",
            "enter the french marks54\n",
            "enter the hindi marks12\n"
          ]
        },
        {
          "output_type": "execute_result",
          "data": {
            "text/plain": [
              "12"
            ]
          },
          "metadata": {},
          "execution_count": 9
        }
      ]
    },
    {
      "cell_type": "code",
      "source": [
        " "
      ],
      "metadata": {
        "id": "6Oaw7Hhr3Gfn"
      },
      "execution_count": null,
      "outputs": []
    }
  ]
}